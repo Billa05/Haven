{
 "cells": [
  {
   "cell_type": "code",
   "execution_count": 1,
   "metadata": {},
   "outputs": [
    {
     "name": "stdout",
     "output_type": "stream",
     "text": [
      "       Report Number     Date Reported Date of Occurrence Time of Occurrence  \\\n",
      "0                  1  02-01-2020 00:00   01-01-2020 00:00   01-01-2020 01:11   \n",
      "1                  2  01-01-2020 19:00   01-01-2020 01:00   01-01-2020 06:26   \n",
      "2                  3  02-01-2020 05:00   01-01-2020 02:00   01-01-2020 14:30   \n",
      "3                  4  01-01-2020 05:00   01-01-2020 03:00   01-01-2020 14:46   \n",
      "4                  5  01-01-2020 21:00   01-01-2020 04:00   01-01-2020 16:51   \n",
      "...              ...               ...                ...                ...   \n",
      "40155          40156  01-08-2024 16:00   07-31-2024 03:00   31-07-2024 05:05   \n",
      "40156          40157  31-07-2024 14:00   07-31-2024 04:00   31-07-2024 04:14   \n",
      "40157          40158  02-08-2024 03:00   07-31-2024 05:00   31-07-2024 21:33   \n",
      "40158          40159  01-08-2024 19:00   07-31-2024 06:00   31-07-2024 11:05   \n",
      "40159          40160  31-07-2024 17:00   07-31-2024 07:00   31-07-2024 17:19   \n",
      "\n",
      "            City  Crime Code   Crime Description  Victim Age Victim Gender  \\\n",
      "0      Ahmedabad         576      IDENTITY THEFT          16             M   \n",
      "1        Chennai         128            HOMICIDE          37             M   \n",
      "2       Ludhiana         271          KIDNAPPING          48             F   \n",
      "3           Pune         170            BURGLARY          49             F   \n",
      "4           Pune         421           VANDALISM          30             F   \n",
      "...          ...         ...                 ...         ...           ...   \n",
      "40155    Kolkata         312      COUNTERFEITING          78             F   \n",
      "40156     Mumbai         300  ILLEGAL POSSESSION          75             F   \n",
      "40157     Kanpur         423    VEHICLE - STOLEN          68             M   \n",
      "40158      Patna         311      SEXUAL ASSAULT          11             M   \n",
      "40159      Delhi         193   DOMESTIC VIOLENCE          43             F   \n",
      "\n",
      "        Weapon Used   Crime Domain  Police Deployed Case Closed  \\\n",
      "0      Blunt Object  Violent Crime               13          No   \n",
      "1            Poison    Other Crime                9          No   \n",
      "2      Blunt Object    Other Crime               15          No   \n",
      "3           Firearm    Other Crime                1         Yes   \n",
      "4             Other    Other Crime               18         Yes   \n",
      "...             ...            ...              ...         ...   \n",
      "40155       Firearm    Other Crime               12          No   \n",
      "40156           NaN    Other Crime                2         Yes   \n",
      "40157         Other  Violent Crime                6          No   \n",
      "40158  Blunt Object  Violent Crime                1          No   \n",
      "40159        Poison  Violent Crime                7         Yes   \n",
      "\n",
      "       Date Case Closed  \n",
      "0                   NaN  \n",
      "1                   NaN  \n",
      "2                   NaN  \n",
      "3      29-04-2020 05:00  \n",
      "4      08-01-2020 21:00  \n",
      "...                 ...  \n",
      "40155               NaN  \n",
      "40156  29-09-2024 14:00  \n",
      "40157               NaN  \n",
      "40158               NaN  \n",
      "40159  28-09-2024 17:00  \n",
      "\n",
      "[40160 rows x 14 columns]\n"
     ]
    }
   ],
   "source": [
    "import pandas as pd\n",
    "\n",
    "df1 = pd.read_csv('crime.csv')\n",
    "\n",
    "print(df1)"
   ]
  },
  {
   "cell_type": "code",
   "execution_count": 2,
   "metadata": {},
   "outputs": [
    {
     "name": "stdout",
     "output_type": "stream",
     "text": [
      "             City        Lat       Long country iso2           State\n",
      "0          Abohar  30.144533  74.195520   India   IN          Punjab\n",
      "1        Adilabad  19.400000  78.310000   India   IN       Telangana\n",
      "2        Agartala  23.836049  91.279386   India   IN         Tripura\n",
      "3            Agra  27.187935  78.003944   India   IN   Uttar Pradesh\n",
      "4      Ahmadnagar  19.094571  74.738432   India   IN     Maharashtra\n",
      "..            ...        ...        ...     ...  ...             ...\n",
      "208  Vizianagaram  18.113290  83.397743   India   IN  Andhra Pradesh\n",
      "209      Warangal  17.978423  79.600209   India   IN       Telangana\n",
      "210    Jorapokhar  23.700000  86.412670   India   IN       Jharkhand\n",
      "211  Brajrajnagar  21.820000  83.920000   India   IN          Odisha\n",
      "212       Talcher  20.950000  85.230000   India   IN          Odisha\n",
      "\n",
      "[213 rows x 6 columns]\n"
     ]
    }
   ],
   "source": [
    "df2 = pd.read_csv('Cities.csv')\n",
    "print(df2)"
   ]
  },
  {
   "cell_type": "code",
   "execution_count": 4,
   "metadata": {},
   "outputs": [
    {
     "name": "stdout",
     "output_type": "stream",
     "text": [
      "       Report Number     Date Reported Date of Occurrence Time of Occurrence  \\\n",
      "0                  1  02-01-2020 00:00   01-01-2020 00:00   01-01-2020 01:11   \n",
      "1                  2  01-01-2020 19:00   01-01-2020 01:00   01-01-2020 06:26   \n",
      "2                  3  02-01-2020 05:00   01-01-2020 02:00   01-01-2020 14:30   \n",
      "3                  4  01-01-2020 05:00   01-01-2020 03:00   01-01-2020 14:46   \n",
      "4                  5  01-01-2020 21:00   01-01-2020 04:00   01-01-2020 16:51   \n",
      "...              ...               ...                ...                ...   \n",
      "29032          40153  02-08-2024 11:00   07-31-2024 00:00   31-07-2024 03:46   \n",
      "29033          40155  01-08-2024 11:00   07-31-2024 02:00   31-07-2024 12:59   \n",
      "29034          40157  31-07-2024 14:00   07-31-2024 04:00   31-07-2024 04:14   \n",
      "29035          40159  01-08-2024 19:00   07-31-2024 06:00   31-07-2024 11:05   \n",
      "29036          40160  31-07-2024 17:00   07-31-2024 07:00   31-07-2024 17:19   \n",
      "\n",
      "            City  Crime Code   Crime Description  Victim Age Victim Gender  \\\n",
      "0      Ahmedabad         576      IDENTITY THEFT          16             M   \n",
      "1        Chennai         128            HOMICIDE          37             M   \n",
      "2       Ludhiana         271          KIDNAPPING          48             F   \n",
      "3           Pune         170            BURGLARY          49             F   \n",
      "4           Pune         421           VANDALISM          30             F   \n",
      "...          ...         ...                 ...         ...           ...   \n",
      "29032   Srinagar         568           VANDALISM          65             F   \n",
      "29033    Chennai         532      COUNTERFEITING          50             F   \n",
      "29034     Mumbai         300  ILLEGAL POSSESSION          75             F   \n",
      "29035      Patna         311      SEXUAL ASSAULT          11             M   \n",
      "29036      Delhi         193   DOMESTIC VIOLENCE          43             F   \n",
      "\n",
      "        Weapon Used   Crime Domain  Police Deployed Case Closed  \\\n",
      "0      Blunt Object  Violent Crime               13          No   \n",
      "1            Poison    Other Crime                9          No   \n",
      "2      Blunt Object    Other Crime               15          No   \n",
      "3           Firearm    Other Crime                1         Yes   \n",
      "4             Other    Other Crime               18         Yes   \n",
      "...             ...            ...              ...         ...   \n",
      "29032  Blunt Object    Other Crime                7          No   \n",
      "29033    Explosives    Other Crime                2          No   \n",
      "29034           NaN    Other Crime                2         Yes   \n",
      "29035  Blunt Object  Violent Crime                1          No   \n",
      "29036        Poison  Violent Crime                7         Yes   \n",
      "\n",
      "       Date Case Closed        Lat       Long country iso2              State  \n",
      "0                   NaN  23.025793  72.587265   India   IN            Gujarat  \n",
      "1                   NaN  13.084622  80.248357   India   IN        Tamil Nadu   \n",
      "2                   NaN  30.912042  75.853789   India   IN             Punjab  \n",
      "3      29-04-2020 05:00  18.513271  73.849852   India   IN        Maharashtra  \n",
      "4      08-01-2020 21:00  18.513271  73.849852   India   IN        Maharashtra  \n",
      "...                 ...        ...        ...     ...  ...                ...  \n",
      "29032               NaN  34.085652  74.805553   India   IN  Jammu and Kashmir  \n",
      "29033               NaN  13.084622  80.248357   India   IN        Tamil Nadu   \n",
      "29034  29-09-2024 14:00  18.987807  72.836447   India   IN        Maharashtra  \n",
      "29035               NaN  25.615379  85.101027   India   IN              Bihar  \n",
      "29036  28-09-2024 17:00  28.651952  77.231495   India   IN              Delhi  \n",
      "\n",
      "[29037 rows x 19 columns]\n"
     ]
    }
   ],
   "source": [
    "import pandas as pd\n",
    "\n",
    "crime_df = pd.read_csv('crime.csv')\n",
    "cities_df = pd.read_csv('Cities.csv')\n",
    "\n",
    "merged_df = pd.merge(crime_df, cities_df, on='City')\n",
    "\n",
    "print(merged_df)\n",
    "\n",
    "merged_df.to_csv('merged_crime_cities.csv', index=False)"
   ]
  },
  {
   "cell_type": "code",
   "execution_count": null,
   "metadata": {},
   "outputs": [],
   "source": []
  },
  {
   "cell_type": "code",
   "execution_count": 1,
   "metadata": {},
   "outputs": [],
   "source": [
    "import pandas as pd\n",
    "\n",
    "# Load the original CSV file\n",
    "df = pd.read_csv('merged_crime_cities.csv')\n",
    "\n",
    "# Select the first 10 rows\n",
    "df_first_10 = df.head(10)\n",
    "\n",
    "# Save the selected rows to a new CSV file\n",
    "df_first_10.to_csv('crime_first_10.csv', index=False)"
   ]
  },
  {
   "cell_type": "code",
   "execution_count": null,
   "metadata": {},
   "outputs": [],
   "source": []
  }
 ],
 "metadata": {
  "kernelspec": {
   "display_name": "venv",
   "language": "python",
   "name": "python3"
  },
  "language_info": {
   "codemirror_mode": {
    "name": "ipython",
    "version": 3
   },
   "file_extension": ".py",
   "mimetype": "text/x-python",
   "name": "python",
   "nbconvert_exporter": "python",
   "pygments_lexer": "ipython3",
   "version": "3.12.6"
  }
 },
 "nbformat": 4,
 "nbformat_minor": 2
}
